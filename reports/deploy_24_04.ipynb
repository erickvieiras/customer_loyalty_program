{
 "cells": [
  {
   "cell_type": "markdown",
   "id": "28800722",
   "metadata": {
    "papermill": {
     "duration": 0.04958,
     "end_time": "2024-04-25T11:57:41.546801",
     "exception": false,
     "start_time": "2024-04-25T11:57:41.497221",
     "status": "completed"
    },
    "tags": []
   },
   "source": [
    "# 1.0 - IMPORTS"
   ]
  },
  {
   "cell_type": "markdown",
   "id": "b3bd7066",
   "metadata": {
    "papermill": {
     "duration": 0.013031,
     "end_time": "2024-04-25T11:57:41.576382",
     "exception": false,
     "start_time": "2024-04-25T11:57:41.563351",
     "status": "completed"
    },
    "tags": []
   },
   "source": [
    "## 1.1 - LIBRARIES"
   ]
  },
  {
   "cell_type": "code",
   "execution_count": null,
   "id": "1b9f7285",
   "metadata": {
    "papermill": {
     "duration": null,
     "end_time": null,
     "exception": false,
     "start_time": "2024-04-25T11:57:41.589165",
     "status": "running"
    },
    "tags": []
   },
   "outputs": [],
   "source": [
    "import pandas                   as pd\n",
    "import numpy                    as np\n",
    "import matplotlib.pyplot        as plt\n",
    "import plotly.express           as px\n",
    "import seaborn                  as sns\n",
    "import re\n",
    "import inflection\n",
    "import umap.umap_               as umap\n",
    "from sklearn.cluster            import KMeans, DBSCAN\n",
    "from sklearn.metrics            import silhouette_score, silhouette_samples\n",
    "from sklearn.preprocessing      import MinMaxScaler, StandardScaler\n",
    "from sklearn.decomposition      import PCA\n",
    "from sklearn.manifold           import TSNE\n",
    "from yellowbrick.cluster        import KElbowVisualizer, SilhouetteVisualizer\n",
    "from sklearn.ensemble           import RandomForestRegressor\n",
    "from sklearn.mixture            import GaussianMixture\n",
    "from scipy.cluster.hierarchy    import linkage, dendrogram, fcluster\n",
    "import sqlite3\n",
    "from sqlalchemy import create_engine\n",
    "\n"
   ]
  },
  {
   "cell_type": "markdown",
   "id": "0d315ceb",
   "metadata": {
    "papermill": {
     "duration": null,
     "end_time": null,
     "exception": null,
     "start_time": null,
     "status": "pending"
    },
    "tags": []
   },
   "source": [
    "## 1.2 - LOAD DATA"
   ]
  },
  {
   "cell_type": "code",
   "execution_count": null,
   "id": "259acc36",
   "metadata": {
    "papermill": {
     "duration": null,
     "end_time": null,
     "exception": null,
     "start_time": null,
     "status": "pending"
    },
    "tags": []
   },
   "outputs": [],
   "source": [
    "df_raw = pd.read_csv('dataset/data.csv', encoding='latin-1')"
   ]
  },
  {
   "cell_type": "markdown",
   "id": "957dfc70",
   "metadata": {
    "papermill": {
     "duration": null,
     "end_time": null,
     "exception": null,
     "start_time": null,
     "status": "pending"
    },
    "tags": []
   },
   "source": [
    "## 1.3 - HELPER FUNCTIONS"
   ]
  },
  {
   "cell_type": "markdown",
   "id": "843ba80a",
   "metadata": {
    "papermill": {
     "duration": null,
     "end_time": null,
     "exception": null,
     "start_time": null,
     "status": "pending"
    },
    "tags": []
   },
   "source": [
    "### 1.3.1 - NA VOLUMETRY"
   ]
  },
  {
   "cell_type": "code",
   "execution_count": null,
   "id": "33fec6f3",
   "metadata": {
    "papermill": {
     "duration": null,
     "end_time": null,
     "exception": null,
     "start_time": null,
     "status": "pending"
    },
    "tags": []
   },
   "outputs": [],
   "source": [
    "def nan_volumetry(data):\n",
    "    df_na = pd.DataFrame()\n",
    "    df_na['attributes'] = data.columns\n",
    "    df_na['volumetry'] = ''\n",
    "    df_na['percentual'] = ''\n",
    "\n",
    "    for i in df_na.index:\n",
    "        volumetry = data[df_na.loc[i, 'attributes']].isna().sum()\n",
    "        percentual = (volumetry / data['customer_id'].count()) * 100\n",
    "        df_na.loc[i, 'volumetry'] = volumetry\n",
    "        df_na.loc[i, 'percentual'] = f\"{percentual:.2f}%\"  \n",
    "\n",
    "    return df_na"
   ]
  },
  {
   "cell_type": "markdown",
   "id": "a635eb18",
   "metadata": {
    "papermill": {
     "duration": null,
     "end_time": null,
     "exception": null,
     "start_time": null,
     "status": "pending"
    },
    "tags": []
   },
   "source": [
    "### 1.3.2 - PLOT DIMENSIONS"
   ]
  },
  {
   "cell_type": "code",
   "execution_count": null,
   "id": "a9caa443",
   "metadata": {
    "papermill": {
     "duration": null,
     "end_time": null,
     "exception": null,
     "start_time": null,
     "status": "pending"
    },
    "tags": []
   },
   "outputs": [],
   "source": [
    "sns.set(rc = {'figure.figsize':(13,5)})"
   ]
  },
  {
   "cell_type": "markdown",
   "id": "49309d5e",
   "metadata": {
    "papermill": {
     "duration": null,
     "end_time": null,
     "exception": null,
     "start_time": null,
     "status": "pending"
    },
    "tags": []
   },
   "source": [
    "# 2.0 - DATA DESCRIPTION"
   ]
  },
  {
   "cell_type": "code",
   "execution_count": null,
   "id": "813bfb94",
   "metadata": {
    "papermill": {
     "duration": null,
     "end_time": null,
     "exception": null,
     "start_time": null,
     "status": "pending"
    },
    "tags": []
   },
   "outputs": [],
   "source": [
    "df2 = df_raw.copy()"
   ]
  },
  {
   "cell_type": "markdown",
   "id": "b98dcff7",
   "metadata": {
    "papermill": {
     "duration": null,
     "end_time": null,
     "exception": null,
     "start_time": null,
     "status": "pending"
    },
    "tags": []
   },
   "source": [
    "## 2.1 - DATA DIMENSION"
   ]
  },
  {
   "cell_type": "code",
   "execution_count": null,
   "id": "c34c8d44",
   "metadata": {
    "papermill": {
     "duration": null,
     "end_time": null,
     "exception": null,
     "start_time": null,
     "status": "pending"
    },
    "tags": []
   },
   "outputs": [],
   "source": [
    "print('Total of unique features:\\n')\n",
    "print(df2.apply(lambda x: x.nunique()))\n",
    "print('\\nNumber of rows: {}'.format(df2.shape[0]))\n",
    "print('Number of cols: {}'.format(df2.shape[1]))"
   ]
  },
  {
   "cell_type": "markdown",
   "id": "f12f075c",
   "metadata": {
    "papermill": {
     "duration": null,
     "end_time": null,
     "exception": null,
     "start_time": null,
     "status": "pending"
    },
    "tags": []
   },
   "source": [
    "## 2.2 - RENAME COLUMNS"
   ]
  },
  {
   "cell_type": "code",
   "execution_count": null,
   "id": "3a7295bb",
   "metadata": {
    "papermill": {
     "duration": null,
     "end_time": null,
     "exception": null,
     "start_time": null,
     "status": "pending"
    },
    "tags": []
   },
   "outputs": [],
   "source": [
    "old_columns = df2.columns\n",
    "snakecase = lambda x: inflection.underscore(x)\n",
    "new_columns = list(map(snakecase, old_columns))\n",
    "df2.columns = new_columns"
   ]
  },
  {
   "cell_type": "markdown",
   "id": "94c2dce7",
   "metadata": {
    "papermill": {
     "duration": null,
     "end_time": null,
     "exception": null,
     "start_time": null,
     "status": "pending"
    },
    "tags": []
   },
   "source": [
    "## 2.3 - DATA TYPES"
   ]
  },
  {
   "cell_type": "code",
   "execution_count": null,
   "id": "13494e7a",
   "metadata": {
    "papermill": {
     "duration": null,
     "end_time": null,
     "exception": null,
     "start_time": null,
     "status": "pending"
    },
    "tags": []
   },
   "outputs": [],
   "source": [
    "df2.dtypes"
   ]
  },
  {
   "cell_type": "markdown",
   "id": "997afa61",
   "metadata": {
    "papermill": {
     "duration": null,
     "end_time": null,
     "exception": null,
     "start_time": null,
     "status": "pending"
    },
    "tags": []
   },
   "source": [
    "## 2.4 - NAN VOLUMETRY"
   ]
  },
  {
   "cell_type": "code",
   "execution_count": null,
   "id": "50bf8583",
   "metadata": {
    "papermill": {
     "duration": null,
     "end_time": null,
     "exception": null,
     "start_time": null,
     "status": "pending"
    },
    "tags": []
   },
   "outputs": [],
   "source": [
    "df2.isna().sum()"
   ]
  },
  {
   "cell_type": "code",
   "execution_count": null,
   "id": "4664e7a3",
   "metadata": {
    "papermill": {
     "duration": null,
     "end_time": null,
     "exception": null,
     "start_time": null,
     "status": "pending"
    },
    "tags": []
   },
   "outputs": [],
   "source": [
    "nan_volumetry(df2)"
   ]
  },
  {
   "cell_type": "markdown",
   "id": "82d32157",
   "metadata": {
    "papermill": {
     "duration": null,
     "end_time": null,
     "exception": null,
     "start_time": null,
     "status": "pending"
    },
    "tags": []
   },
   "source": [
    "### 2.4.1 - FILL NA"
   ]
  },
  {
   "cell_type": "code",
   "execution_count": null,
   "id": "dc18fa2d",
   "metadata": {
    "papermill": {
     "duration": null,
     "end_time": null,
     "exception": null,
     "start_time": null,
     "status": "pending"
    },
    "tags": []
   },
   "outputs": [],
   "source": [
    "df_missing = df2.loc[df2['customer_id'].isna(),:]\n",
    "df_full = df2.loc[~df2['customer_id'].isna(),:]"
   ]
  },
  {
   "cell_type": "code",
   "execution_count": null,
   "id": "e90e761e",
   "metadata": {
    "papermill": {
     "duration": null,
     "end_time": null,
     "exception": null,
     "start_time": null,
     "status": "pending"
    },
    "tags": []
   },
   "outputs": [],
   "source": [
    "# create reference\n",
    "df_backup = pd.DataFrame( df_missing['invoice_no'].drop_duplicates() )\n",
    "df_backup['customer_id'] = np.arange( 19000, 19000+len( df_backup ), 1)\n",
    "\n",
    "# merge original with reference dataframe\n",
    "df2 = pd.merge( df2, df_backup, on='invoice_no', how='left' )\n",
    "\n",
    "# coalesce \n",
    "df2['customer_id'] = df2['customer_id_x'].combine_first( df2['customer_id_y'] )\n",
    "\n",
    "# drop extra columns\n",
    "df2 = df2.drop( columns=['customer_id_x', 'customer_id_y'], axis=1 )\n",
    "df2.head(6)"
   ]
  },
  {
   "cell_type": "code",
   "execution_count": null,
   "id": "232ca33e",
   "metadata": {
    "papermill": {
     "duration": null,
     "end_time": null,
     "exception": null,
     "start_time": null,
     "status": "pending"
    },
    "tags": []
   },
   "outputs": [],
   "source": [
    "df2.isna().sum()"
   ]
  },
  {
   "cell_type": "markdown",
   "id": "0a5b48f6",
   "metadata": {
    "papermill": {
     "duration": null,
     "end_time": null,
     "exception": null,
     "start_time": null,
     "status": "pending"
    },
    "tags": []
   },
   "source": [
    "## 2.5 - CHANGE DATA TYPES"
   ]
  },
  {
   "cell_type": "code",
   "execution_count": null,
   "id": "adbf3910",
   "metadata": {
    "papermill": {
     "duration": null,
     "end_time": null,
     "exception": null,
     "start_time": null,
     "status": "pending"
    },
    "tags": []
   },
   "outputs": [],
   "source": [
    "df2['invoice_date'] = pd.to_datetime(df2['invoice_date'])\n",
    "df2['customer_id'] = df2['customer_id'].astype(int)"
   ]
  },
  {
   "cell_type": "code",
   "execution_count": null,
   "id": "a152fae7",
   "metadata": {
    "papermill": {
     "duration": null,
     "end_time": null,
     "exception": null,
     "start_time": null,
     "status": "pending"
    },
    "tags": []
   },
   "outputs": [],
   "source": [
    "df2.dtypes"
   ]
  },
  {
   "cell_type": "markdown",
   "id": "7a1d6d82",
   "metadata": {
    "papermill": {
     "duration": null,
     "end_time": null,
     "exception": null,
     "start_time": null,
     "status": "pending"
    },
    "tags": []
   },
   "source": [
    "# 3.0 - DESCRIPTIVE STATISTICS"
   ]
  },
  {
   "cell_type": "code",
   "execution_count": null,
   "id": "75d104ab",
   "metadata": {
    "papermill": {
     "duration": null,
     "end_time": null,
     "exception": null,
     "start_time": null,
     "status": "pending"
    },
    "tags": []
   },
   "outputs": [],
   "source": [
    "df3 = df2.copy()\n",
    "num_attributes = df3.select_dtypes(include = ['int64', 'float64'])\n",
    "cat_attributes = df3.select_dtypes(include = 'object')"
   ]
  },
  {
   "cell_type": "markdown",
   "id": "0408cc48",
   "metadata": {
    "papermill": {
     "duration": null,
     "end_time": null,
     "exception": null,
     "start_time": null,
     "status": "pending"
    },
    "tags": []
   },
   "source": [
    "## 3.1 - NUMERICAL ATTRIBUTES"
   ]
  },
  {
   "cell_type": "code",
   "execution_count": null,
   "id": "c6377e6a",
   "metadata": {
    "papermill": {
     "duration": null,
     "end_time": null,
     "exception": null,
     "start_time": null,
     "status": "pending"
    },
    "tags": []
   },
   "outputs": [],
   "source": [
    "# central tendency - mean, median\n",
    "ct1 = pd.DataFrame( num_attributes.apply( np.mean ) ).T\n",
    "ct2 = pd.DataFrame( num_attributes.apply( np.median ) ).T\n",
    "             \n",
    "# dispersion - desvio padrão, minimo, maximo, range, skew, kurtosis\n",
    "d1 = pd.DataFrame( num_attributes.apply( np.std ) ).T\n",
    "d2 = pd.DataFrame( num_attributes.apply( np.min ) ).T\n",
    "d3 = pd.DataFrame( num_attributes.apply( np.max ) ).T\n",
    "d4 = pd.DataFrame( num_attributes.apply( lambda x: x.max() - x.min() ) ).T\n",
    "d5 = pd.DataFrame( num_attributes.apply( lambda x: x.skew() ) ).T\n",
    "d6 = pd.DataFrame( num_attributes.apply( lambda x: x.kurtosis() ) ).T\n",
    "\n",
    "# concatenate\n",
    "m = pd.concat( [d2, d3, d4, ct1, ct2, d1, d5, d6] ).T.reset_index()\n",
    "m.columns = ['attributes', 'min', 'max', 'range', 'mean', 'mediana', 'std', 'skew', 'kurtosis']\n",
    "m"
   ]
  },
  {
   "cell_type": "markdown",
   "id": "1ac8dc97",
   "metadata": {
    "papermill": {
     "duration": null,
     "end_time": null,
     "exception": null,
     "start_time": null,
     "status": "pending"
    },
    "tags": []
   },
   "source": [
    "### 3.1.1 - NUMERICAL ATTRIBUTES ANALYSIS"
   ]
  },
  {
   "cell_type": "markdown",
   "id": "a5f4a85d",
   "metadata": {
    "papermill": {
     "duration": null,
     "end_time": null,
     "exception": null,
     "start_time": null,
     "status": "pending"
    },
    "tags": []
   },
   "source": [
    "- Negative Quantity (Returning products?)\n",
    "- Unity Price less than zero (Product discount?)"
   ]
  },
  {
   "cell_type": "markdown",
   "id": "6e8036bc",
   "metadata": {
    "papermill": {
     "duration": null,
     "end_time": null,
     "exception": null,
     "start_time": null,
     "status": "pending"
    },
    "tags": []
   },
   "source": [
    "## 3.2 - CATEGORICAL ATTRIBUTES"
   ]
  },
  {
   "cell_type": "code",
   "execution_count": null,
   "id": "17c41b2c",
   "metadata": {
    "papermill": {
     "duration": null,
     "end_time": null,
     "exception": null,
     "start_time": null,
     "status": "pending"
    },
    "tags": []
   },
   "outputs": [],
   "source": [
    "cat_attributes.columns"
   ]
  },
  {
   "cell_type": "markdown",
   "id": "bb22826f",
   "metadata": {
    "papermill": {
     "duration": null,
     "end_time": null,
     "exception": null,
     "start_time": null,
     "status": "pending"
    },
    "tags": []
   },
   "source": [
    "### INVOICE NUMBER"
   ]
  },
  {
   "cell_type": "markdown",
   "id": "d6fe633b",
   "metadata": {
    "papermill": {
     "duration": null,
     "end_time": null,
     "exception": null,
     "start_time": null,
     "status": "pending"
    },
    "tags": []
   },
   "source": [
    "We have Invoice Number with letters and numbers, sendo assim iremos padronizar para uma variavel numerica pois se trata de uma ordem de compra."
   ]
  },
  {
   "cell_type": "code",
   "execution_count": null,
   "id": "4c5bbcec",
   "metadata": {
    "papermill": {
     "duration": null,
     "end_time": null,
     "exception": null,
     "start_time": null,
     "status": "pending"
    },
    "tags": []
   },
   "outputs": [],
   "source": [
    "df_letter_invoices = df3.loc[df3['invoice_no'].apply( lambda x: bool( re.search( '[^0-9]+', x ) ) ), :]\n",
    "df_letter_invoices.head()\n",
    "\n",
    "print( 'Total number of invoices: {}'.format( len( df_letter_invoices ) ) )\n",
    "print( 'Total number of negative quantity: {}'.format( len( df_letter_invoices[ df_letter_invoices['quantity'] < 0 ] ) ) )"
   ]
  },
  {
   "cell_type": "markdown",
   "id": "1b4f026f",
   "metadata": {
    "papermill": {
     "duration": null,
     "end_time": null,
     "exception": null,
     "start_time": null,
     "status": "pending"
    },
    "tags": []
   },
   "source": [
    "Observando que a coluna Quantity indicam numeros negativos, podemos assumir que são dados relacionados a descontos, devolução ou estorno (cancelamento) de mercadorias pois correspondem a quantidade total de ordens com letras."
   ]
  },
  {
   "cell_type": "markdown",
   "id": "f4032baf",
   "metadata": {
    "papermill": {
     "duration": null,
     "end_time": null,
     "exception": null,
     "start_time": null,
     "status": "pending"
    },
    "tags": []
   },
   "source": [
    "STOCK CODE"
   ]
  },
  {
   "cell_type": "markdown",
   "id": "8f25b4ff",
   "metadata": {
    "papermill": {
     "duration": null,
     "end_time": null,
     "exception": null,
     "start_time": null,
     "status": "pending"
    },
    "tags": []
   },
   "source": [
    "Analise de stocke code com apenas caracteres"
   ]
  },
  {
   "cell_type": "code",
   "execution_count": null,
   "id": "e5b444a8",
   "metadata": {
    "papermill": {
     "duration": null,
     "end_time": null,
     "exception": null,
     "start_time": null,
     "status": "pending"
    },
    "tags": []
   },
   "outputs": [],
   "source": [
    "df3.loc[df3['stock_code'].apply(lambda x: bool(re.search('^[a-zA-Z]+$', x))), :].sample(10)"
   ]
  },
  {
   "cell_type": "code",
   "execution_count": null,
   "id": "03045db9",
   "metadata": {
    "papermill": {
     "duration": null,
     "end_time": null,
     "exception": null,
     "start_time": null,
     "status": "pending"
    },
    "tags": []
   },
   "outputs": [],
   "source": [
    "stock_code_letters = df3.loc[df3['stock_code'].apply(lambda x: bool(re.search('^[a-zA-Z]+$', x))), 'stock_code'].unique()\n",
    "stock_code_letters"
   ]
  },
  {
   "cell_type": "markdown",
   "id": "7a95e789",
   "metadata": {
    "papermill": {
     "duration": null,
     "end_time": null,
     "exception": null,
     "start_time": null,
     "status": "pending"
    },
    "tags": []
   },
   "source": [
    "### DESCRIPTION"
   ]
  },
  {
   "cell_type": "markdown",
   "id": "bbf96221",
   "metadata": {
    "papermill": {
     "duration": null,
     "end_time": null,
     "exception": null,
     "start_time": null,
     "status": "pending"
    },
    "tags": []
   },
   "source": [
    "We'll drop the Description column, because its not usefull or bring some insight ou metric to our analysis."
   ]
  },
  {
   "cell_type": "code",
   "execution_count": null,
   "id": "e7c67bc4",
   "metadata": {
    "papermill": {
     "duration": null,
     "end_time": null,
     "exception": null,
     "start_time": null,
     "status": "pending"
    },
    "tags": []
   },
   "outputs": [],
   "source": [
    "df3.sample(5)"
   ]
  },
  {
   "cell_type": "markdown",
   "id": "47146dfe",
   "metadata": {
    "papermill": {
     "duration": null,
     "end_time": null,
     "exception": null,
     "start_time": null,
     "status": "pending"
    },
    "tags": []
   },
   "source": [
    "### COUNTRY"
   ]
  },
  {
   "cell_type": "code",
   "execution_count": null,
   "id": "bc65d660",
   "metadata": {
    "papermill": {
     "duration": null,
     "end_time": null,
     "exception": null,
     "start_time": null,
     "status": "pending"
    },
    "tags": []
   },
   "outputs": [],
   "source": [
    "print('Total of unique Countries: {}'.format(df3['country'].unique()))\n",
    "print('\\n Total of number of unique Countries: {}'.format(df3['country'].nunique()))\n",
    "print('\\n Percentual of orders per country:')\n",
    "(df3['country'].value_counts(normalize = True)*100).apply(lambda x: '{:.2f}%'.format(x))"
   ]
  },
  {
   "cell_type": "markdown",
   "id": "a9f9a04c",
   "metadata": {
    "papermill": {
     "duration": null,
     "end_time": null,
     "exception": null,
     "start_time": null,
     "status": "pending"
    },
    "tags": []
   },
   "source": [
    "Quantity of Customers by Country"
   ]
  },
  {
   "cell_type": "code",
   "execution_count": null,
   "id": "22a7f637",
   "metadata": {
    "papermill": {
     "duration": null,
     "end_time": null,
     "exception": null,
     "start_time": null,
     "status": "pending"
    },
    "tags": []
   },
   "outputs": [],
   "source": [
    "df3[['customer_id', 'country']].drop_duplicates().groupby('country').count().reset_index().sort_values('customer_id', ascending = False)"
   ]
  },
  {
   "cell_type": "markdown",
   "id": "0d7f705e",
   "metadata": {
    "papermill": {
     "duration": null,
     "end_time": null,
     "exception": null,
     "start_time": null,
     "status": "pending"
    },
    "tags": []
   },
   "source": [
    "# 4.0 - FEATURE SELECTION"
   ]
  },
  {
   "cell_type": "code",
   "execution_count": null,
   "id": "7eb735c0",
   "metadata": {
    "papermill": {
     "duration": null,
     "end_time": null,
     "exception": null,
     "start_time": null,
     "status": "pending"
    },
    "tags": []
   },
   "outputs": [],
   "source": [
    "df4 = df3.copy()"
   ]
  },
  {
   "cell_type": "code",
   "execution_count": null,
   "id": "075f0f94",
   "metadata": {
    "papermill": {
     "duration": null,
     "end_time": null,
     "exception": null,
     "start_time": null,
     "status": "pending"
    },
    "tags": []
   },
   "outputs": [],
   "source": [
    "# === Numerical attributes ====\n",
    "df4 = df4.loc[df4['unit_price'] >= 0.04, :]\n",
    "\n",
    "# === Categorical attributes ====\n",
    "df4 = df4[~df4['stock_code'].isin( stock_code_letters) ]\n",
    "\n",
    "# description\n",
    "df4 = df4.drop( columns='description', axis=1 )\n",
    "\n",
    "# map -  \n",
    "df4 = df4[~df4['country'].isin( ['European Community', 'Unspecified' ] ) ]\n",
    "\n",
    "# bad users\n",
    "df4 = df4[~df4['customer_id'].isin( [16446] )]\n",
    "\n",
    "# quantity\n",
    "df_returns = df4.loc[df3['quantity'] < 0, :]\n",
    "df_purchases = df4.loc[df3['quantity'] >= 0, :]"
   ]
  },
  {
   "cell_type": "markdown",
   "id": "fd467c07",
   "metadata": {
    "papermill": {
     "duration": null,
     "end_time": null,
     "exception": null,
     "start_time": null,
     "status": "pending"
    },
    "tags": []
   },
   "source": [
    "# 5.0 - FEATURE ENGINEERING"
   ]
  },
  {
   "cell_type": "code",
   "execution_count": null,
   "id": "324e40a0",
   "metadata": {
    "papermill": {
     "duration": null,
     "end_time": null,
     "exception": null,
     "start_time": null,
     "status": "pending"
    },
    "tags": []
   },
   "outputs": [],
   "source": [
    "df5 = df4.copy()"
   ]
  },
  {
   "cell_type": "code",
   "execution_count": null,
   "id": "fc07d7ae",
   "metadata": {
    "papermill": {
     "duration": null,
     "end_time": null,
     "exception": null,
     "start_time": null,
     "status": "pending"
    },
    "tags": []
   },
   "outputs": [],
   "source": [
    "df_reference = df5.drop(['invoice_no', 'stock_code', 'quantity', 'invoice_date', 'unit_price', 'country'], axis = 1).drop_duplicates(ignore_index = True)"
   ]
  },
  {
   "cell_type": "markdown",
   "id": "8e8ce469",
   "metadata": {
    "papermill": {
     "duration": null,
     "end_time": null,
     "exception": null,
     "start_time": null,
     "status": "pending"
    },
    "tags": []
   },
   "source": [
    "## 5.1 - GROSS REVENUE"
   ]
  },
  {
   "cell_type": "code",
   "execution_count": null,
   "id": "e0362219",
   "metadata": {
    "papermill": {
     "duration": null,
     "end_time": null,
     "exception": null,
     "start_time": null,
     "status": "pending"
    },
    "tags": []
   },
   "outputs": [],
   "source": [
    "#gross Revenue (quantity * price)\n",
    "df_purchase = df_purchases.copy()\n",
    "df_purchase.loc[:, 'gross_revenue'] = df_purchase.loc[:, 'quantity'] * df_purchase.loc[:, 'unit_price']\n",
    "\n",
    "\n",
    "#monetary\n",
    "df_monetary = df_purchase.loc[:,['customer_id','gross_revenue']].groupby('customer_id').sum().reset_index()\n",
    "df_reference = pd.merge(df_reference, df_monetary, on = 'customer_id', how = 'left')\n",
    "df_reference.isna().sum()"
   ]
  },
  {
   "cell_type": "markdown",
   "id": "78ed297b",
   "metadata": {
    "papermill": {
     "duration": null,
     "end_time": null,
     "exception": null,
     "start_time": null,
     "status": "pending"
    },
    "tags": []
   },
   "source": [
    "## 5.2 - RECENCY - DAY FROM LAST PURCHASE"
   ]
  },
  {
   "cell_type": "code",
   "execution_count": null,
   "id": "583bdb81",
   "metadata": {
    "papermill": {
     "duration": null,
     "end_time": null,
     "exception": null,
     "start_time": null,
     "status": "pending"
    },
    "tags": []
   },
   "outputs": [],
   "source": [
    "#recency (Last Day Purchase)\n",
    "df_recency = df_purchase.loc[:, ['customer_id', 'invoice_date']].groupby( 'customer_id' ).max().reset_index()\n",
    "df_recency['recency_days'] = ( df5['invoice_date'].max() - df_recency['invoice_date'] ).dt.days\n",
    "df_recency = df_recency[['customer_id', 'recency_days']].copy()\n",
    "df_reference = pd.merge( df_reference, df_recency, on='customer_id', how='left' )\n",
    "df_reference.isna().sum()"
   ]
  },
  {
   "cell_type": "markdown",
   "id": "6f8886ef",
   "metadata": {
    "papermill": {
     "duration": null,
     "end_time": null,
     "exception": null,
     "start_time": null,
     "status": "pending"
    },
    "tags": []
   },
   "source": [
    "## 5.3 - QUANTITY OF PURCHASED"
   ]
  },
  {
   "cell_type": "code",
   "execution_count": null,
   "id": "d9311540",
   "metadata": {
    "papermill": {
     "duration": null,
     "end_time": null,
     "exception": null,
     "start_time": null,
     "status": "pending"
    },
    "tags": []
   },
   "outputs": [],
   "source": [
    "#frequency (Quantity of Purchase)\n",
    "df_freq = (df_purchase.loc[:, ['customer_id', 'invoice_no']].drop_duplicates()\n",
    "                                                             .groupby( 'customer_id' )\n",
    "                                                             .count()\n",
    "                                                             .reset_index()\n",
    "                                                             .rename( columns={'invoice_no': 'qtde_invoices'}) )\n",
    "df_reference = pd.merge( df_reference, df_freq, on='customer_id', how='left' )\n",
    "df_reference.isna().sum()"
   ]
  },
  {
   "cell_type": "markdown",
   "id": "3f831444",
   "metadata": {
    "papermill": {
     "duration": null,
     "end_time": null,
     "exception": null,
     "start_time": null,
     "status": "pending"
    },
    "tags": []
   },
   "source": [
    "## 5.4 - QUANTITY OF ITEMS PURCHASED"
   ]
  },
  {
   "cell_type": "code",
   "execution_count": null,
   "id": "49143ed0",
   "metadata": {
    "papermill": {
     "duration": null,
     "end_time": null,
     "exception": null,
     "start_time": null,
     "status": "pending"
    },
    "tags": []
   },
   "outputs": [],
   "source": [
    "#frequency (Quantity of Purchase)\n",
    "df_freq = (df_purchase.loc[:, ['customer_id', 'quantity']].groupby( 'customer_id' ).sum()\n",
    "                                                           .reset_index()\n",
    "                                                           .rename( columns={'quantity': 'qtde_items'} ) )\n",
    "df_reference = pd.merge( df_reference, df_freq, on='customer_id', how='left' )\n",
    "df_reference.isna().sum()"
   ]
  },
  {
   "cell_type": "markdown",
   "id": "727a0df8",
   "metadata": {
    "papermill": {
     "duration": null,
     "end_time": null,
     "exception": null,
     "start_time": null,
     "status": "pending"
    },
    "tags": []
   },
   "source": [
    "## 5.5 - QUANTITY OF PRODUCTS PURCHASED"
   ]
  },
  {
   "cell_type": "code",
   "execution_count": null,
   "id": "904d809e",
   "metadata": {
    "papermill": {
     "duration": null,
     "end_time": null,
     "exception": null,
     "start_time": null,
     "status": "pending"
    },
    "tags": []
   },
   "outputs": [],
   "source": [
    "df_freq = (df_purchase.loc[:, ['customer_id', 'stock_code']].groupby( 'customer_id' ).count()\n",
    "                                                           .reset_index()\n",
    "                                                           .rename( columns={'stock_code': 'qtde_products'} ) )\n",
    "df_reference = pd.merge( df_reference, df_freq, on='customer_id', how='left' )\n",
    "df_reference.isna().sum()"
   ]
  },
  {
   "cell_type": "markdown",
   "id": "76fa035e",
   "metadata": {
    "papermill": {
     "duration": null,
     "end_time": null,
     "exception": null,
     "start_time": null,
     "status": "pending"
    },
    "tags": []
   },
   "source": [
    "## 5.6 - AVERAGE TICKET VALUE"
   ]
  },
  {
   "cell_type": "code",
   "execution_count": null,
   "id": "ac2a1f51",
   "metadata": {
    "papermill": {
     "duration": null,
     "end_time": null,
     "exception": null,
     "start_time": null,
     "status": "pending"
    },
    "tags": []
   },
   "outputs": [],
   "source": [
    "#average ticket\n",
    "df_avg_ticket = df_purchase.loc[:, ['customer_id', 'gross_revenue']].groupby( 'customer_id' ).mean().reset_index().rename( columns={'gross_revenue':'avg_ticket'} )\n",
    "df_reference = pd.merge( df_reference, df_avg_ticket, on='customer_id', how='left')\n",
    "df_reference.isna().sum()"
   ]
  },
  {
   "cell_type": "markdown",
   "id": "6fb9f2af",
   "metadata": {
    "papermill": {
     "duration": null,
     "end_time": null,
     "exception": null,
     "start_time": null,
     "status": "pending"
    },
    "tags": []
   },
   "source": [
    "## 5.7 - AVERAGE RECENCY DAYS"
   ]
  },
  {
   "cell_type": "code",
   "execution_count": null,
   "id": "342cfe30",
   "metadata": {
    "papermill": {
     "duration": null,
     "end_time": null,
     "exception": null,
     "start_time": null,
     "status": "pending"
    },
    "tags": []
   },
   "outputs": [],
   "source": [
    "df_aux = df4[['customer_id', 'invoice_date']].drop_duplicates().sort_values( ['customer_id', 'invoice_date'], ascending=False )\n",
    "df_aux['next_customer_id'] = df_aux['customer_id'].shift() # next customer\n",
    "df_aux['previous_date'] = df_aux['invoice_date'].shift() # next invoince date\n",
    "\n",
    "df_aux['avg_recency_days'] = df_aux.apply( lambda x: ( x['invoice_date'] - x['previous_date'] ).days if x['customer_id'] == x['next_customer_id'] else np.nan, axis=1 )\n",
    "\n",
    "df_aux = df_aux.drop( ['invoice_date', 'next_customer_id', 'previous_date'], axis=1 ).dropna()\n",
    "\n",
    "# average recency \n",
    "df_avg_recency_days = df_aux.groupby( 'customer_id' ).mean().reset_index()\n",
    "\n",
    "# merge\n",
    "df_reference = pd.merge( df_reference, df_avg_recency_days, on='customer_id', how='left' )\n",
    "df_reference.isna().sum()"
   ]
  },
  {
   "cell_type": "markdown",
   "id": "ced183b1",
   "metadata": {
    "papermill": {
     "duration": null,
     "end_time": null,
     "exception": null,
     "start_time": null,
     "status": "pending"
    },
    "tags": []
   },
   "source": [
    "## 5.8 - FREQUENCY PURCHASE"
   ]
  },
  {
   "cell_type": "code",
   "execution_count": null,
   "id": "be337977",
   "metadata": {
    "papermill": {
     "duration": null,
     "end_time": null,
     "exception": null,
     "start_time": null,
     "status": "pending"
    },
    "tags": []
   },
   "outputs": [],
   "source": [
    "df_aux = ( df_purchases[['customer_id', 'invoice_no', 'invoice_date']].drop_duplicates()\n",
    "                                                             .groupby( 'customer_id')\n",
    "                                                             .agg( max_ = ( 'invoice_date', 'max' ), \n",
    "                                                                   min_ = ( 'invoice_date', 'min' ),\n",
    "                                                                   days_= ( 'invoice_date', lambda x: ( ( x.max() - x.min() ).days ) + 1 ),\n",
    "                                                                   buy_ = ( 'invoice_no', 'count' ) ) ).reset_index()\n",
    "# Frequency\n",
    "df_aux['frequency'] = df_aux[['buy_', 'days_']].apply( lambda x: x['buy_'] / x['days_'] if  x['days_'] != 0 else 0, axis=1 )\n",
    "\n",
    "# Merge\n",
    "df_reference = pd.merge( df_reference, df_aux[['customer_id', 'frequency']], on='customer_id', how='left' )\n",
    "\n",
    "df_reference.isna().sum()"
   ]
  },
  {
   "cell_type": "markdown",
   "id": "c4ddf2f2",
   "metadata": {
    "papermill": {
     "duration": null,
     "end_time": null,
     "exception": null,
     "start_time": null,
     "status": "pending"
    },
    "tags": []
   },
   "source": [
    "## 5.9 - NUMBER OF RETURNS"
   ]
  },
  {
   "cell_type": "code",
   "execution_count": null,
   "id": "ae75dc02",
   "metadata": {
    "papermill": {
     "duration": null,
     "end_time": null,
     "exception": null,
     "start_time": null,
     "status": "pending"
    },
    "tags": []
   },
   "outputs": [],
   "source": [
    "df_returns = df_returns[['customer_id', 'quantity']].groupby( 'customer_id' ).sum().reset_index().rename( columns={'quantity':'qtde_returns'} )\n",
    "df_returns['qtde_returns'] = df_returns['qtde_returns'] * -1\n",
    "\n",
    "df_reference = pd.merge( df_reference, df_returns, how='left', on='customer_id' )\n",
    "df_reference.loc[df_reference['qtde_returns'].isna(), 'qtde_returns'] = 0\n",
    "\n",
    "df_reference.isna().sum()"
   ]
  },
  {
   "cell_type": "markdown",
   "id": "e9bc0f95",
   "metadata": {
    "papermill": {
     "duration": null,
     "end_time": null,
     "exception": null,
     "start_time": null,
     "status": "pending"
    },
    "tags": []
   },
   "source": [
    "## 5.10 - BASKET SIZE"
   ]
  },
  {
   "cell_type": "code",
   "execution_count": null,
   "id": "23cd0a35",
   "metadata": {
    "papermill": {
     "duration": null,
     "end_time": null,
     "exception": null,
     "start_time": null,
     "status": "pending"
    },
    "tags": []
   },
   "outputs": [],
   "source": [
    "df_aux = ( df_purchases.loc[:, ['customer_id', 'invoice_no', 'quantity']].groupby( 'customer_id' )\n",
    "                                                                            .agg( n_purchase=( 'invoice_no', 'nunique'),\n",
    "                                                                                  n_products=( 'quantity', 'sum' ) )\n",
    "                                                                            .reset_index() )\n",
    "\n",
    "# calculation\n",
    "df_aux['avg_basket_size'] = df_aux['n_products'] / df_aux['n_purchase']\n",
    "\n",
    "# merge\n",
    "df_reference = pd.merge( df_reference, df_aux[['customer_id', 'avg_basket_size']], how='left', on='customer_id' )\n",
    "df_reference.isna().sum()"
   ]
  },
  {
   "cell_type": "markdown",
   "id": "8cd57061",
   "metadata": {
    "papermill": {
     "duration": null,
     "end_time": null,
     "exception": null,
     "start_time": null,
     "status": "pending"
    },
    "tags": []
   },
   "source": [
    "## 5.11 - UNIQUE ITENS BASKET SIZE"
   ]
  },
  {
   "cell_type": "code",
   "execution_count": null,
   "id": "30cea2b1",
   "metadata": {
    "papermill": {
     "duration": null,
     "end_time": null,
     "exception": null,
     "start_time": null,
     "status": "pending"
    },
    "tags": []
   },
   "outputs": [],
   "source": [
    "df_aux = ( df_purchases.loc[:, ['customer_id', 'invoice_no', 'stock_code']].groupby( 'customer_id' )\n",
    "                                                                            .agg( n_purchase=( 'invoice_no', 'nunique'),\n",
    "                                                                                   n_products=( 'stock_code', 'nunique' ) )\n",
    "                                                                            .reset_index() )\n",
    "\n",
    "# calculation\n",
    "df_aux['avg_unique_basket_size'] = df_aux['n_products'] / df_aux['n_purchase']\n",
    "\n",
    "# merge\n",
    "df_reference = pd.merge( df_reference, df_aux[['customer_id', 'avg_unique_basket_size']], how='left', on='customer_id' )\n",
    "df_reference.isna().sum()"
   ]
  },
  {
   "cell_type": "markdown",
   "id": "8b7f4e22",
   "metadata": {
    "papermill": {
     "duration": null,
     "end_time": null,
     "exception": null,
     "start_time": null,
     "status": "pending"
    },
    "tags": []
   },
   "source": [
    "## 5.12 - CLEANING NA"
   ]
  },
  {
   "cell_type": "code",
   "execution_count": null,
   "id": "ac76ca67",
   "metadata": {
    "papermill": {
     "duration": null,
     "end_time": null,
     "exception": null,
     "start_time": null,
     "status": "pending"
    },
    "tags": []
   },
   "outputs": [],
   "source": [
    "df_reference = df_reference.dropna()\n",
    "df_reference.isna().sum()"
   ]
  },
  {
   "cell_type": "markdown",
   "id": "c4ec79f5",
   "metadata": {
    "papermill": {
     "duration": null,
     "end_time": null,
     "exception": null,
     "start_time": null,
     "status": "pending"
    },
    "tags": []
   },
   "source": [
    "# 6.0 - EXPLORATORY DATA ANALYSIS (EDA)"
   ]
  },
  {
   "cell_type": "code",
   "execution_count": null,
   "id": "4893c95d",
   "metadata": {
    "papermill": {
     "duration": null,
     "end_time": null,
     "exception": null,
     "start_time": null,
     "status": "pending"
    },
    "tags": []
   },
   "outputs": [],
   "source": [
    "df6 = df_reference.copy()"
   ]
  },
  {
   "cell_type": "markdown",
   "id": "bd75410e",
   "metadata": {
    "papermill": {
     "duration": null,
     "end_time": null,
     "exception": null,
     "start_time": null,
     "status": "pending"
    },
    "tags": []
   },
   "source": [
    "## 6.2 - SPACE STUDY ANALYSIS"
   ]
  },
  {
   "cell_type": "code",
   "execution_count": null,
   "id": "64ee13be",
   "metadata": {
    "papermill": {
     "duration": null,
     "end_time": null,
     "exception": null,
     "start_time": null,
     "status": "pending"
    },
    "tags": []
   },
   "outputs": [],
   "source": [
    "df_space = df6.drop(columns = ['customer_id'], axis = 1).copy()\n",
    "cols_selected = ['customer_id', 'gross_revenue', 'recency_days', 'qtde_products', 'frequency', 'qtde_returns']\n",
    "df_space = df6[cols_selected].copy()\n",
    "df_space.columns"
   ]
  },
  {
   "cell_type": "code",
   "execution_count": null,
   "id": "67b41773",
   "metadata": {
    "papermill": {
     "duration": null,
     "end_time": null,
     "exception": null,
     "start_time": null,
     "status": "pending"
    },
    "tags": []
   },
   "outputs": [],
   "source": [
    "mms = MinMaxScaler()\n",
    "\n",
    "df_space['gross_revenue']               = mms.fit_transform(df_space[['gross_revenue']])\n",
    "df_space['recency_days']                = mms.fit_transform(df_space[['recency_days']])\n",
    "df_space['qtde_products']               = mms.fit_transform(df_space[['qtde_products']])\n",
    "df_space['frequency']                   = mms.fit_transform(df_space[['frequency']])\n",
    "df_space['qtde_returns']                = mms.fit_transform(df_space[['qtde_returns']])"
   ]
  },
  {
   "cell_type": "markdown",
   "id": "0cfbaebf",
   "metadata": {
    "papermill": {
     "duration": null,
     "end_time": null,
     "exception": null,
     "start_time": null,
     "status": "pending"
    },
    "tags": []
   },
   "source": [
    "### 6.2.1 - PCA ANALYSIS"
   ]
  },
  {
   "cell_type": "code",
   "execution_count": null,
   "id": "68227df4",
   "metadata": {
    "papermill": {
     "duration": null,
     "end_time": null,
     "exception": null,
     "start_time": null,
     "status": "pending"
    },
    "tags": []
   },
   "outputs": [],
   "source": [
    "pca = PCA(n_components = df_space.shape[1])\n",
    "\n",
    "principal_components = pca.fit_transform(df_space)\n",
    "\n",
    "#plot explained variable\n",
    "features = range(pca.n_components_)\n",
    "\n",
    "plt.bar(features, pca.explained_variance_ratio_, color='darkgreen')\n",
    "plt.title('PCA Space Analysis')\n",
    "plt.xlabel('Data Variation X Axis')\n",
    "plt.ylabel('Data Variation Y Axis')\n",
    "\n",
    "for i, explained_var in enumerate(pca.explained_variance_ratio_):\n",
    "    plt.text(i, explained_var + 0.005, f'{explained_var:.3f}', ha='center', va='bottom', fontsize=9)\n",
    "\n",
    "plt.show()"
   ]
  },
  {
   "cell_type": "code",
   "execution_count": null,
   "id": "b93039b8",
   "metadata": {
    "papermill": {
     "duration": null,
     "end_time": null,
     "exception": null,
     "start_time": null,
     "status": "pending"
    },
    "tags": []
   },
   "outputs": [],
   "source": [
    "df_pca = pd.DataFrame(principal_components)\n",
    "df_view = df_pca.loc[df_pca[0] <=3000].copy()\n",
    "sns.scatterplot(data = df_view, x = 0, y = 1,)\n",
    "plt.title('Distribuition Space Analysis')\n",
    "plt.xlabel('Data Variation X Axis')\n",
    "plt.ylabel('Data Variation Y Axis')\n",
    "plt.show()"
   ]
  },
  {
   "cell_type": "markdown",
   "id": "88383228",
   "metadata": {
    "papermill": {
     "duration": null,
     "end_time": null,
     "exception": null,
     "start_time": null,
     "status": "pending"
    },
    "tags": []
   },
   "source": [
    "### 6.2.2 - UMAP ANALYSIS"
   ]
  },
  {
   "cell_type": "code",
   "execution_count": null,
   "id": "e27e8d76",
   "metadata": {
    "papermill": {
     "duration": null,
     "end_time": null,
     "exception": null,
     "start_time": null,
     "status": "pending"
    },
    "tags": []
   },
   "outputs": [],
   "source": [
    "reducer = umap.UMAP(random_state = 42)\n",
    "embedding = reducer.fit_transform(df_space)\n",
    "\n",
    "#embedding\n",
    "df_pca['embedding_x'] = embedding[:, 0]\n",
    "df_pca['embedding_y'] = embedding[:, 1]\n",
    "\n",
    "#plot\n",
    "\n",
    "sns.scatterplot(data = df_pca, x = 'embedding_x', y = 'embedding_y')\n",
    "\n",
    "plt.show()"
   ]
  },
  {
   "cell_type": "markdown",
   "id": "64567009",
   "metadata": {
    "papermill": {
     "duration": null,
     "end_time": null,
     "exception": null,
     "start_time": null,
     "status": "pending"
    },
    "tags": []
   },
   "source": [
    "### 6.2.3 - T-SNE ANALYSIS"
   ]
  },
  {
   "cell_type": "code",
   "execution_count": null,
   "id": "5cd10360",
   "metadata": {
    "papermill": {
     "duration": null,
     "end_time": null,
     "exception": null,
     "start_time": null,
     "status": "pending"
    },
    "tags": []
   },
   "outputs": [],
   "source": [
    "reducer = TSNE(random_state = 42, n_components = 2, n_jobs = -1, )\n",
    "embedding = reducer.fit_transform(df_space)\n",
    "\n",
    "#embedding\n",
    "df_pca['embedding_x'] = embedding[:, 0]\n",
    "df_pca['embedding_y'] = embedding[:, 1]\n",
    "\n",
    "#plot\n",
    "\n",
    "sns.scatterplot(data = df_pca, x = 'embedding_x', y = 'embedding_y')\n",
    "\n",
    "plt.show()"
   ]
  },
  {
   "cell_type": "markdown",
   "id": "73cd6943",
   "metadata": {
    "papermill": {
     "duration": null,
     "end_time": null,
     "exception": null,
     "start_time": null,
     "status": "pending"
    },
    "tags": []
   },
   "source": [
    "### 6.2.4 - TREE-BASED EMBEDDING ANALYSIS"
   ]
  },
  {
   "cell_type": "code",
   "execution_count": null,
   "id": "d015efcd",
   "metadata": {
    "papermill": {
     "duration": null,
     "end_time": null,
     "exception": null,
     "start_time": null,
     "status": "pending"
    },
    "tags": []
   },
   "outputs": [],
   "source": [
    "#dataset split\n",
    "x_train = df_space.drop(columns = ['customer_id', 'gross_revenue'], axis = 1)\n",
    "y_train = df_space['gross_revenue']\n",
    "\n",
    "#model definition\n",
    "rf_model = RandomForestRegressor(n_estimators = 100, random_state = 42)\n",
    "\n",
    "#model training\n",
    "rf_model.fit(x_train, y_train)\n",
    "\n",
    "#leaf\n",
    "leaf = rf_model.apply(x_train)\n",
    "\n",
    "#dataframe leaf\n",
    "df_leaf = pd.DataFrame(leaf)\n",
    "df_leaf.head()"
   ]
  },
  {
   "cell_type": "code",
   "execution_count": null,
   "id": "96651859",
   "metadata": {
    "papermill": {
     "duration": null,
     "end_time": null,
     "exception": null,
     "start_time": null,
     "status": "pending"
    },
    "tags": []
   },
   "outputs": [],
   "source": [
    "#Reduce of dimensionality\n",
    "reducer = umap.UMAP(random_state = 42)\n",
    "embedding = reducer.fit_transform(df_leaf)\n",
    "\n",
    "#embedding\n",
    "df_tree = pd.DataFrame()\n",
    "df_tree['embedding_x'] = embedding[:, 0]\n",
    "df_tree['embedding_y'] = embedding[:, 1]\n",
    "\n",
    "#plot\n",
    "\n",
    "sns.scatterplot(data = df_tree, x = 'embedding_x', y = 'embedding_y')\n",
    "\n",
    "plt.show()"
   ]
  },
  {
   "cell_type": "markdown",
   "id": "5a80829f",
   "metadata": {
    "papermill": {
     "duration": null,
     "end_time": null,
     "exception": null,
     "start_time": null,
     "status": "pending"
    },
    "tags": []
   },
   "source": [
    "# 7.0 - DATA PREPARATION"
   ]
  },
  {
   "cell_type": "code",
   "execution_count": null,
   "id": "a57238d9",
   "metadata": {
    "papermill": {
     "duration": null,
     "end_time": null,
     "exception": null,
     "start_time": null,
     "status": "pending"
    },
    "tags": []
   },
   "outputs": [],
   "source": [
    "df7 = df_tree.copy()\n"
   ]
  },
  {
   "cell_type": "markdown",
   "id": "f114f666",
   "metadata": {
    "papermill": {
     "duration": null,
     "end_time": null,
     "exception": null,
     "start_time": null,
     "status": "pending"
    },
    "tags": []
   },
   "source": [
    "## 7.1 - RESCALING"
   ]
  },
  {
   "cell_type": "code",
   "execution_count": null,
   "id": "272c4061",
   "metadata": {
    "papermill": {
     "duration": null,
     "end_time": null,
     "exception": null,
     "start_time": null,
     "status": "pending"
    },
    "tags": []
   },
   "outputs": [],
   "source": [
    "#mms = MinMaxScaler()\n",
    "\n",
    "#df7['gross_revenue']            = mms.fit_transform(df7[['gross_revenue']])\n",
    "#df7['recency_days']             = mms.fit_transform(df7[['recency_days']])\n",
    "#df7['quantity_stock_code']      = mms.fit_transform(df7[['quantity_stock_code']])\n",
    "#df7['frequency']                = mms.fit_transform(df7[['frequency']])\n",
    "#df7['returns']                  = mms.fit_transform(df7[['returns']])\n"
   ]
  },
  {
   "cell_type": "markdown",
   "id": "edfda626",
   "metadata": {
    "papermill": {
     "duration": null,
     "end_time": null,
     "exception": null,
     "start_time": null,
     "status": "pending"
    },
    "tags": []
   },
   "source": [
    "# 8.0 - HYPERPARAMETER FINE-TUNNING"
   ]
  },
  {
   "cell_type": "code",
   "execution_count": null,
   "id": "6045fa01",
   "metadata": {
    "papermill": {
     "duration": null,
     "end_time": null,
     "exception": null,
     "start_time": null,
     "status": "pending"
    },
    "tags": []
   },
   "outputs": [],
   "source": [
    "df8 = df7.copy()"
   ]
  },
  {
   "cell_type": "code",
   "execution_count": null,
   "id": "f018251f",
   "metadata": {
    "papermill": {
     "duration": null,
     "end_time": null,
     "exception": null,
     "start_time": null,
     "status": "pending"
    },
    "tags": []
   },
   "outputs": [],
   "source": [
    "#cols_selected = df8[['customer_id','gross_revenue', 'recency_days', 'quantity_stock_code', 'frequency', 'returns']]\n",
    "#parameter_tuning = cols_selected.copy()\n",
    "#parameter_tuning = parameter_tuning.drop(columns = ['customer_id'], axis = 1)\n",
    "parameter_tuning = df8.copy()"
   ]
  },
  {
   "cell_type": "code",
   "execution_count": null,
   "id": "d20f61c5",
   "metadata": {
    "papermill": {
     "duration": null,
     "end_time": null,
     "exception": null,
     "start_time": null,
     "status": "pending"
    },
    "tags": []
   },
   "outputs": [],
   "source": [
    "parameter_tuning"
   ]
  },
  {
   "cell_type": "code",
   "execution_count": null,
   "id": "d76230a7",
   "metadata": {
    "papermill": {
     "duration": null,
     "end_time": null,
     "exception": null,
     "start_time": null,
     "status": "pending"
    },
    "tags": []
   },
   "outputs": [],
   "source": [
    "cluster = np.arange(2, 26, 1)"
   ]
  },
  {
   "cell_type": "markdown",
   "id": "c77e4a05",
   "metadata": {
    "papermill": {
     "duration": null,
     "end_time": null,
     "exception": null,
     "start_time": null,
     "status": "pending"
    },
    "tags": []
   },
   "source": [
    "## 8.1 - K-MEANS"
   ]
  },
  {
   "cell_type": "code",
   "execution_count": null,
   "id": "9f305a8a",
   "metadata": {
    "papermill": {
     "duration": null,
     "end_time": null,
     "exception": null,
     "start_time": null,
     "status": "pending"
    },
    "tags": []
   },
   "outputs": [],
   "source": [
    "kmeans_list = []\n",
    "for k in cluster:\n",
    "    #model definition\n",
    "    kmeans = KMeans(n_clusters = k)\n",
    "\n",
    "    #model traning\n",
    "    kmeans.fit(parameter_tuning)\n",
    "\n",
    "    #validation\n",
    "    labels = kmeans.predict(parameter_tuning)\n",
    "\n",
    "    #performance\n",
    "    sil = silhouette_score(parameter_tuning, labels, metric = 'euclidean')\n",
    "    kmeans_list.append(sil)"
   ]
  },
  {
   "cell_type": "code",
   "execution_count": null,
   "id": "9c309948",
   "metadata": {
    "papermill": {
     "duration": null,
     "end_time": null,
     "exception": null,
     "start_time": null,
     "status": "pending"
    },
    "tags": []
   },
   "outputs": [],
   "source": [
    "plt.plot(cluster, kmeans_list, linestyle = '--', marker = 'o', color = 'b')\n",
    "plt.title('Silouette Score vs Kmeans')\n",
    "plt.xlabel('K')\n",
    "plt.ylabel('Silhouette Score')\n",
    "plt.show() \n"
   ]
  },
  {
   "cell_type": "markdown",
   "id": "984ce723",
   "metadata": {
    "papermill": {
     "duration": null,
     "end_time": null,
     "exception": null,
     "start_time": null,
     "status": "pending"
    },
    "tags": []
   },
   "source": [
    "## 8.2 - GAUSSIAN MIXTURE MODEL (GMM)"
   ]
  },
  {
   "cell_type": "code",
   "execution_count": null,
   "id": "ca59e9c8",
   "metadata": {
    "papermill": {
     "duration": null,
     "end_time": null,
     "exception": null,
     "start_time": null,
     "status": "pending"
    },
    "tags": []
   },
   "outputs": [],
   "source": [
    "gmm_list = []\n",
    "for k in cluster:\n",
    "    #model definition\n",
    "    gmm = GaussianMixture(n_components= k)\n",
    "\n",
    "    #model traning\n",
    "    gmm.fit(parameter_tuning)\n",
    "\n",
    "    #validation\n",
    "    labels = gmm.predict(parameter_tuning)\n",
    "\n",
    "    #performance\n",
    "    sil = silhouette_score(parameter_tuning, labels, metric = 'euclidean')\n",
    "    gmm_list.append(sil)"
   ]
  },
  {
   "cell_type": "code",
   "execution_count": null,
   "id": "58bada8e",
   "metadata": {
    "papermill": {
     "duration": null,
     "end_time": null,
     "exception": null,
     "start_time": null,
     "status": "pending"
    },
    "tags": []
   },
   "outputs": [],
   "source": [
    "plt.plot(cluster, gmm_list, linestyle = '--', marker = 'o', color = 'b')\n",
    "plt.title('Silouette Score vs Gaussian Mixture')\n",
    "plt.xlabel('K')\n",
    "plt.ylabel('Silhouette Score')\n",
    "plt.show() "
   ]
  },
  {
   "cell_type": "markdown",
   "id": "89dfcb05",
   "metadata": {
    "papermill": {
     "duration": null,
     "end_time": null,
     "exception": null,
     "start_time": null,
     "status": "pending"
    },
    "tags": []
   },
   "source": [
    "## 8.3 - HIERARCHICAL CLUSTERING"
   ]
  },
  {
   "cell_type": "code",
   "execution_count": null,
   "id": "46cc49cb",
   "metadata": {
    "papermill": {
     "duration": null,
     "end_time": null,
     "exception": null,
     "start_time": null,
     "status": "pending"
    },
    "tags": []
   },
   "outputs": [],
   "source": [
    "#Definition and training model\n",
    "hc_model = linkage(parameter_tuning, 'ward')"
   ]
  },
  {
   "cell_type": "code",
   "execution_count": null,
   "id": "81924896",
   "metadata": {
    "papermill": {
     "duration": null,
     "end_time": null,
     "exception": null,
     "start_time": null,
     "status": "pending"
    },
    "tags": []
   },
   "outputs": [],
   "source": [
    "#plot\n",
    "dendrogram(hc_model, leaf_rotation = 90, leaf_font_size = 8, truncate_mode='lastp', p = 12, show_contracted=True)\n",
    "plt.show()"
   ]
  },
  {
   "cell_type": "markdown",
   "id": "3ed0b6ed",
   "metadata": {
    "papermill": {
     "duration": null,
     "end_time": null,
     "exception": null,
     "start_time": null,
     "status": "pending"
    },
    "tags": []
   },
   "source": [
    "\n",
    "### 8.3.1 - HIERARCHICAL CLUSTERING SILHOUETTE SCORE"
   ]
  },
  {
   "cell_type": "code",
   "execution_count": null,
   "id": "88dcc035",
   "metadata": {
    "papermill": {
     "duration": null,
     "end_time": null,
     "exception": null,
     "start_time": null,
     "status": "pending"
    },
    "tags": []
   },
   "outputs": [],
   "source": [
    "hc_list = []\n",
    "for k in cluster:\n",
    "    #model definition\n",
    "    hc_model = linkage(parameter_tuning, 'ward')\n",
    "\n",
    "    #model predict\n",
    "    labels = fcluster(hc_model, k, criterion = 'maxclust')\n",
    "\n",
    "    #performance\n",
    "    sil = silhouette_score(parameter_tuning, labels, metric = 'euclidean')\n",
    "\n",
    "    hc_list.append(sil)"
   ]
  },
  {
   "cell_type": "code",
   "execution_count": null,
   "id": "f30169b1",
   "metadata": {
    "papermill": {
     "duration": null,
     "end_time": null,
     "exception": null,
     "start_time": null,
     "status": "pending"
    },
    "tags": []
   },
   "outputs": [],
   "source": [
    "plt.plot(cluster, hc_list, linestyle = '--', marker = 'o', color = 'b')\n",
    "plt.title('Silouette Score vs Hierarchical Clustering')\n",
    "plt.xlabel('K')\n",
    "plt.ylabel('Silhouette Score')\n",
    "plt.show() "
   ]
  },
  {
   "cell_type": "markdown",
   "id": "2e19ca17",
   "metadata": {
    "papermill": {
     "duration": null,
     "end_time": null,
     "exception": null,
     "start_time": null,
     "status": "pending"
    },
    "tags": []
   },
   "source": [
    "## 8.5 - RESULTS OF PERFORMANCE"
   ]
  },
  {
   "cell_type": "code",
   "execution_count": null,
   "id": "fdf29efa",
   "metadata": {
    "papermill": {
     "duration": null,
     "end_time": null,
     "exception": null,
     "start_time": null,
     "status": "pending"
    },
    "tags": []
   },
   "outputs": [],
   "source": [
    "df_results = pd.DataFrame({'Kmeans': kmeans_list, 'Gaussian Mixture Model': gmm_list, 'Hierarchical Clustering': hc_list}).T\n",
    "df_results.columns = cluster\n",
    "df_results.style.highlight_max(color='darkgreen', axis = 1)"
   ]
  },
  {
   "cell_type": "markdown",
   "id": "b00407b4",
   "metadata": {
    "papermill": {
     "duration": null,
     "end_time": null,
     "exception": null,
     "start_time": null,
     "status": "pending"
    },
    "tags": []
   },
   "source": [
    "# 9.0 - MACHINE LEARNING MODEL"
   ]
  },
  {
   "cell_type": "markdown",
   "id": "de4f2b30",
   "metadata": {
    "papermill": {
     "duration": null,
     "end_time": null,
     "exception": null,
     "start_time": null,
     "status": "pending"
    },
    "tags": []
   },
   "source": [
    "## 9.1 - K-MEANS"
   ]
  },
  {
   "cell_type": "code",
   "execution_count": null,
   "id": "3adfaac6",
   "metadata": {
    "papermill": {
     "duration": null,
     "end_time": null,
     "exception": null,
     "start_time": null,
     "status": "pending"
    },
    "tags": []
   },
   "outputs": [],
   "source": [
    "#model definition\n",
    "k = 8\n",
    "kmeans = KMeans(init = 'random', n_clusters = k, n_init = 10, max_iter = 300, random_state = 42)\n",
    "\n",
    "#model training\n",
    "kmeans.fit(parameter_tuning)\n",
    "\n",
    "#clustering\n",
    "labels = kmeans.labels_"
   ]
  },
  {
   "cell_type": "markdown",
   "id": "931617df",
   "metadata": {
    "papermill": {
     "duration": null,
     "end_time": null,
     "exception": null,
     "start_time": null,
     "status": "pending"
    },
    "tags": []
   },
   "source": [
    "### 9.1.1 - CLUSTER PERFOMANCE"
   ]
  },
  {
   "cell_type": "code",
   "execution_count": null,
   "id": "670b02b2",
   "metadata": {
    "papermill": {
     "duration": null,
     "end_time": null,
     "exception": null,
     "start_time": null,
     "status": "pending"
    },
    "tags": []
   },
   "outputs": [],
   "source": [
    "print('WSS Value: {}'.format(kmeans.inertia_))\n",
    "print('Silhouette Score Value: {}'.format(silhouette_score(parameter_tuning, labels, metric = 'euclidean')))"
   ]
  },
  {
   "cell_type": "markdown",
   "id": "2b5919dc",
   "metadata": {
    "papermill": {
     "duration": null,
     "end_time": null,
     "exception": null,
     "start_time": null,
     "status": "pending"
    },
    "tags": []
   },
   "source": [
    "### 9.1.2 - CLUSTER ANALYSIS"
   ]
  },
  {
   "cell_type": "code",
   "execution_count": null,
   "id": "cde06e05",
   "metadata": {
    "papermill": {
     "duration": null,
     "end_time": null,
     "exception": null,
     "start_time": null,
     "status": "pending"
    },
    "tags": []
   },
   "outputs": [],
   "source": [
    "df10 = parameter_tuning.copy()\n",
    "df10['cluster'] = labels\n",
    "df10.head(10)"
   ]
  },
  {
   "cell_type": "markdown",
   "id": "3d9e8837",
   "metadata": {
    "papermill": {
     "duration": null,
     "end_time": null,
     "exception": null,
     "start_time": null,
     "status": "pending"
    },
    "tags": []
   },
   "source": [
    "### 9.1.3 - VISUALIZATION INSPECTION"
   ]
  },
  {
   "cell_type": "code",
   "execution_count": null,
   "id": "7a4abc92",
   "metadata": {
    "papermill": {
     "duration": null,
     "end_time": null,
     "exception": null,
     "start_time": null,
     "status": "pending"
    },
    "tags": []
   },
   "outputs": [],
   "source": [
    "plt.figure(figsize=(18, 11))\n",
    "sns.scatterplot(data = df10, x = 'embedding_x', y = 'embedding_y', hue = 'cluster', palette='deep')\n",
    "plt.show()"
   ]
  },
  {
   "cell_type": "markdown",
   "id": "c71db6ae",
   "metadata": {
    "papermill": {
     "duration": null,
     "end_time": null,
     "exception": null,
     "start_time": null,
     "status": "pending"
    },
    "tags": []
   },
   "source": [
    "## 9.2 - GAUSSIAN MIXTURE MODEL"
   ]
  },
  {
   "cell_type": "code",
   "execution_count": null,
   "id": "9d1bfcf2",
   "metadata": {
    "papermill": {
     "duration": null,
     "end_time": null,
     "exception": null,
     "start_time": null,
     "status": "pending"
    },
    "tags": []
   },
   "outputs": [],
   "source": [
    "k = 8\n",
    "#model definition\n",
    "gmm = GaussianMixture(n_components= k, random_state=42)\n",
    "\n",
    "#model traning\n",
    "gmm.fit(parameter_tuning)\n",
    "\n",
    "#validation\n",
    "labels = gmm.predict(parameter_tuning)\n",
    "\n",
    "#performance\n",
    "sil = silhouette_score(parameter_tuning, labels, metric = 'euclidean')\n",
    "gmm_list.append(sil)"
   ]
  },
  {
   "cell_type": "markdown",
   "id": "b425675f",
   "metadata": {
    "papermill": {
     "duration": null,
     "end_time": null,
     "exception": null,
     "start_time": null,
     "status": "pending"
    },
    "tags": []
   },
   "source": [
    "### 9.2.1 - CLUSTER PERFOMANCE"
   ]
  },
  {
   "cell_type": "code",
   "execution_count": null,
   "id": "9ae14953",
   "metadata": {
    "papermill": {
     "duration": null,
     "end_time": null,
     "exception": null,
     "start_time": null,
     "status": "pending"
    },
    "tags": []
   },
   "outputs": [],
   "source": [
    "print('Silhouette Score Value: {}'.format(silhouette_score(parameter_tuning, labels, metric = 'euclidean')))"
   ]
  },
  {
   "cell_type": "markdown",
   "id": "7ad287fe",
   "metadata": {
    "papermill": {
     "duration": null,
     "end_time": null,
     "exception": null,
     "start_time": null,
     "status": "pending"
    },
    "tags": []
   },
   "source": [
    "### 9.2.2 - CLUSTER ANALYSIS"
   ]
  },
  {
   "cell_type": "code",
   "execution_count": null,
   "id": "ccdc24b5",
   "metadata": {
    "papermill": {
     "duration": null,
     "end_time": null,
     "exception": null,
     "start_time": null,
     "status": "pending"
    },
    "tags": []
   },
   "outputs": [],
   "source": [
    "df10 = parameter_tuning.copy()\n",
    "df10['cluster'] = labels\n",
    "df10.head(10)"
   ]
  },
  {
   "cell_type": "markdown",
   "id": "e1d7124a",
   "metadata": {
    "papermill": {
     "duration": null,
     "end_time": null,
     "exception": null,
     "start_time": null,
     "status": "pending"
    },
    "tags": []
   },
   "source": [
    "### 9.2.3 - VISUALIZATION INSPECTION"
   ]
  },
  {
   "cell_type": "code",
   "execution_count": null,
   "id": "63622e16",
   "metadata": {
    "papermill": {
     "duration": null,
     "end_time": null,
     "exception": null,
     "start_time": null,
     "status": "pending"
    },
    "tags": []
   },
   "outputs": [],
   "source": [
    "plt.figure(figsize=(18, 11))\n",
    "sns.scatterplot(data = df10, x = 'embedding_x', y = 'embedding_y', hue = 'cluster', palette='deep')\n",
    "plt.show()"
   ]
  },
  {
   "cell_type": "markdown",
   "id": "b7a345a2",
   "metadata": {
    "papermill": {
     "duration": null,
     "end_time": null,
     "exception": null,
     "start_time": null,
     "status": "pending"
    },
    "tags": []
   },
   "source": [
    "# 10.0 - VISUALIZATION INSPECTION"
   ]
  },
  {
   "cell_type": "markdown",
   "id": "d0dac9d8",
   "metadata": {
    "papermill": {
     "duration": null,
     "end_time": null,
     "exception": null,
     "start_time": null,
     "status": "pending"
    },
    "tags": []
   },
   "source": [
    "## 10.1 - 10.1 - 2D PLOT"
   ]
  },
  {
   "cell_type": "code",
   "execution_count": null,
   "id": "c7b8ae07",
   "metadata": {
    "papermill": {
     "duration": null,
     "end_time": null,
     "exception": null,
     "start_time": null,
     "status": "pending"
    },
    "tags": []
   },
   "outputs": [],
   "source": [
    "df_viz = df10.copy()\n",
    "sns.pairplot(df_viz, hue = 'cluster')\n",
    "plt.show()"
   ]
  },
  {
   "cell_type": "markdown",
   "id": "521980c0",
   "metadata": {
    "papermill": {
     "duration": null,
     "end_time": null,
     "exception": null,
     "start_time": null,
     "status": "pending"
    },
    "tags": []
   },
   "source": [
    "## 10.2 - UMAP - HIGH DIMENSIONALITY"
   ]
  },
  {
   "cell_type": "code",
   "execution_count": null,
   "id": "b389e088",
   "metadata": {
    "papermill": {
     "duration": null,
     "end_time": null,
     "exception": null,
     "start_time": null,
     "status": "pending"
    },
    "tags": []
   },
   "outputs": [],
   "source": [
    "reducer = umap.UMAP(random_state = 42, n_neighbors = 200, n_jobs = 1)\n",
    "embedding = reducer.fit_transform(parameter_tuning)\n",
    "\n",
    "#embedding\n",
    "df_viz['embedding_x'] = embedding[:, 0]\n",
    "df_viz['embedding_y'] = embedding[:, 1]\n",
    "\n",
    "#plot\n",
    "\n",
    "sns.scatterplot(data = df_viz, x = 'embedding_x', y = 'embedding_y', \n",
    "                hue = 'cluster', \n",
    "                palette = sns.color_palette( 'hls', n_colors = len(df_viz['cluster'].unique())))\n",
    "\n",
    "plt.show()"
   ]
  },
  {
   "cell_type": "markdown",
   "id": "39be9927",
   "metadata": {
    "papermill": {
     "duration": null,
     "end_time": null,
     "exception": null,
     "start_time": null,
     "status": "pending"
    },
    "tags": []
   },
   "source": [
    "## 10.4 - CLUSTER PROFILE"
   ]
  },
  {
   "cell_type": "code",
   "execution_count": null,
   "id": "164cccdd",
   "metadata": {
    "papermill": {
     "duration": null,
     "end_time": null,
     "exception": null,
     "start_time": null,
     "status": "pending"
    },
    "tags": []
   },
   "outputs": [],
   "source": [
    "df_profile = df6[cols_selected].copy()\n",
    "df_profile['cluster'] = labels"
   ]
  },
  {
   "cell_type": "code",
   "execution_count": null,
   "id": "af692b2e",
   "metadata": {
    "papermill": {
     "duration": null,
     "end_time": null,
     "exception": null,
     "start_time": null,
     "status": "pending"
    },
    "tags": []
   },
   "outputs": [],
   "source": [
    "df_profile['recency_days'] = df_profile['recency_days'].astype(int)\n",
    "df_profile['qtde_products'] = df_profile['qtde_products'].astype(int)\n",
    "df_profile['qtde_returns'] = df_profile['qtde_returns'].astype(int)\n",
    "\n",
    "# Number of customer\n",
    "df_cluster = df_profile[['customer_id', 'cluster']].groupby( 'cluster' ).count().reset_index()\n",
    "df_cluster['percentual_customer'] = 100*( df_cluster['customer_id'] / df_cluster['customer_id'].sum() )\n",
    "\n",
    "# Avg Gross revenue\n",
    "df_avg_gross_revenue = df_profile[['gross_revenue', 'cluster']].groupby( 'cluster' ).mean().reset_index()\n",
    "df_cluster = pd.merge( df_cluster, df_avg_gross_revenue, how='inner', on='cluster' )\n",
    "\n",
    "# Avg recency days\n",
    "df_avg_recency_days = df_profile[['recency_days', 'cluster']].groupby( 'cluster' ).mean().reset_index()\n",
    "df_cluster = pd.merge( df_cluster, df_avg_recency_days, how='inner', on='cluster' )\n",
    "\n",
    "# Avg invoice_no\n",
    "df_qtde_products = df_profile[['qtde_products', 'cluster']].groupby( 'cluster' ).mean().reset_index()\n",
    "df_cluster = pd.merge( df_cluster, df_qtde_products, how='inner', on='cluster' )\n",
    "\n",
    "# Frequency\n",
    "df_frequency = df_profile[['frequency', 'cluster']].groupby( 'cluster' ).mean().reset_index()\n",
    "df_cluster = pd.merge( df_cluster, df_frequency, how='inner', on='cluster' )\n",
    "\n",
    "# Returns\n",
    "df_qtde_returns = df_profile[['qtde_returns', 'cluster']].groupby( 'cluster' ).mean().reset_index()\n",
    "df_cluster = pd.merge( df_cluster, df_qtde_returns, how='inner', on='cluster' )\n",
    "\n",
    "df_cluster['recency_days'] = df_cluster['recency_days'].astype(int)\n",
    "df_cluster['qtde_products'] = df_cluster['qtde_products'].astype(int)\n",
    "df_cluster['qtde_returns'] = df_cluster['qtde_returns'].astype(int)\n",
    "\n",
    "df_cluster = df_cluster.sort_values('gross_revenue', ascending=False)\n",
    "\n",
    "new_order_comuns = ['customer_id', 'cluster', 'percentual_customer', 'frequency','recency_days', 'qtde_products', 'qtde_returns', 'gross_revenue']\n",
    "df_cluster = df_cluster[new_order_comuns]\n",
    "df_cluster"
   ]
  },
  {
   "cell_type": "markdown",
   "id": "e2864111",
   "metadata": {
    "papermill": {
     "duration": null,
     "end_time": null,
     "exception": null,
     "start_time": null,
     "status": "pending"
    },
    "tags": []
   },
   "source": [
    " DIAMOND - CLUSTER 01 (Candidate High Value Customer):\n",
    " - Total of customers: 487 (16.03% of all customers)\n",
    " - Average of Gross Revenue: $9,544.57\n",
    " - Average of Recency Days: 20\n",
    " - Average of invoice number: 419\n",
    " - Average of Returns: 298\n",
    " - Average Purchase Frequency: 0.09%\n",
    "\n",
    " <br>\n",
    "\n",
    "SILVER PRODUCTS - CLUSTER 05:\n",
    " - Total of customers: 523 (17.21% of all customers)\n",
    " - Average of Gross Revenue: $2,641.84\n",
    " - Average of Recency Days: 44\n",
    " - Average of invoice number: 140\n",
    " - Average of Returns: 24\n",
    " - Average Purchase Frequency: 0.10%\n",
    "\n",
    " <br>\n",
    " \n",
    "BRONZE MONEY CLUSTER 07:\n",
    " - Total of customers: 417 (13.72% of all customers)\n",
    " - Average of Gross Revenue: $1,803.20\n",
    " - Average of Recency Days: 56\n",
    " - Average of invoice number: 88\n",
    " - Average of Returns: 10\n",
    " - Average Purchase Frequency: 0.10%\n",
    "\n",
    " <br>\n",
    " \n",
    "BRONZE PRODUCTS CLUSTER 03:\n",
    " - Total of customers: 382 (12.57% of all customers)\n",
    " - Average of Gross Revenue: $1,198.02\n",
    " - Average of Recency Days: 61\n",
    " - Average of invoice number: 54\n",
    " - Average of Returns: 7\n",
    " - Average Purchase Frequency: 0.09%\n",
    "\n",
    " <br>\n",
    " \n",
    "SILVER LESS DAYS - CLUSTER 02:\n",
    " - Total of customers: 343 (14.28% of all customers)\n",
    " - Average of Gross Revenue: $1,069.55\n",
    " - Average of Recency Days: 71\n",
    " - Average of invoice number: 45\n",
    " - Average of Returns: 6\n",
    " - Average Purchase Frequency: 0.09%\n",
    "\n",
    " <br>\n",
    " \n",
    "SILVER LOWER PURCHASE - CLUSTER 0:\n",
    " - Total of customers: 168 (5.53% of all customers)\n",
    " - Average of Gross Revenue: $798.63\n",
    " - Average of Recency Days: 88\n",
    " - Average of invoice number: 27\n",
    " - Average of Returns: 4\n",
    " - Average Purchase Frequency: 0.17%\n",
    "\n",
    " <br>\n",
    " \n",
    "SILVER STOP RETURNS - CLUSTER 06:\n",
    " - Total of customers: 435 (14.31% of all customers)\n",
    " - Average of Gross Revenue: $656.33\n",
    " - Average of Recency Days: 94\t\n",
    " - Average of invoice number: 14\n",
    " - Average of Returns: 19\n",
    " - Average Purchase Frequency: 0.06%\n",
    "\n",
    " <br>\n",
    " \n",
    "BRONZE LOWER PURCHASE - CLUSTER 04:\n",
    " - Total of customers: 193 (6.35% of all customers)\n",
    " - Average of Gross Revenue: $338.86\n",
    " - Average of Recency Days: 169\t\n",
    " - Average of invoice number: 13\n",
    " - Average of Returns: 5\n",
    " - Average Purchase Frequency: 1.0%\n",
    "\n"
   ]
  },
  {
   "cell_type": "markdown",
   "id": "63895450",
   "metadata": {
    "papermill": {
     "duration": null,
     "end_time": null,
     "exception": null,
     "start_time": null,
     "status": "pending"
    },
    "tags": []
   },
   "source": [
    "# 11.0 - DEPLOY"
   ]
  },
  {
   "cell_type": "markdown",
   "id": "c6356e29",
   "metadata": {
    "papermill": {
     "duration": null,
     "end_time": null,
     "exception": null,
     "start_time": null,
     "status": "pending"
    },
    "tags": []
   },
   "source": [
    "## 11.1 - CREATE DB CONNECTION"
   ]
  },
  {
   "cell_type": "code",
   "execution_count": null,
   "id": "fd0ea0af",
   "metadata": {
    "papermill": {
     "duration": null,
     "end_time": null,
     "exception": null,
     "start_time": null,
     "status": "pending"
    },
    "tags": []
   },
   "outputs": [],
   "source": [
    "query_create_table_diamond = \"\"\"\n",
    "    CREATE TABLE diamond(\n",
    "        customer_id INTEGER,\n",
    "        gross_revenue REAL,\n",
    "        recency_days INTEGER,\n",
    "        qtde_products INTEGER,\n",
    "        frequency REAL,\n",
    "        qtde_returns INTEGER,\n",
    "        cluster INTEGER\n",
    "    )\n",
    "\"\"\"\n",
    "\n",
    "connection = sqlite3.connect('diamond_db.sqlite')\n",
    "connection.execute(query_create_table_diamond)\n",
    "connection.commit()\n",
    "connection.close()\n"
   ]
  },
  {
   "cell_type": "markdown",
   "id": "b3d08ad7",
   "metadata": {
    "papermill": {
     "duration": null,
     "end_time": null,
     "exception": null,
     "start_time": null,
     "status": "pending"
    },
    "tags": []
   },
   "source": [
    "## 11.2 - INSERT DATA"
   ]
  },
  {
   "cell_type": "code",
   "execution_count": null,
   "id": "0ac211cf",
   "metadata": {
    "papermill": {
     "duration": null,
     "end_time": null,
     "exception": null,
     "start_time": null,
     "status": "pending"
    },
    "tags": []
   },
   "outputs": [],
   "source": [
    "connection = create_engine('sqlite:///diamond_db.sqlite')\n",
    "df_profile.to_sql('diamond', con = connection, if_exists='append', index = False)"
   ]
  },
  {
   "cell_type": "markdown",
   "id": "4b121692",
   "metadata": {
    "papermill": {
     "duration": null,
     "end_time": null,
     "exception": null,
     "start_time": null,
     "status": "pending"
    },
    "tags": []
   },
   "source": [
    "## 11.3 - VIEW DATA"
   ]
  },
  {
   "cell_type": "code",
   "execution_count": null,
   "id": "42782b11",
   "metadata": {
    "papermill": {
     "duration": null,
     "end_time": null,
     "exception": null,
     "start_time": null,
     "status": "pending"
    },
    "tags": []
   },
   "outputs": [],
   "source": [
    "query = \"\"\" SELECT * FROM diamond\"\"\"\n",
    "df_query = pd.read_sql_query(query, connection)"
   ]
  },
  {
   "cell_type": "code",
   "execution_count": null,
   "id": "e5924692",
   "metadata": {
    "papermill": {
     "duration": null,
     "end_time": null,
     "exception": null,
     "start_time": null,
     "status": "pending"
    },
    "tags": []
   },
   "outputs": [],
   "source": [
    "df_query"
   ]
  }
 ],
 "metadata": {
  "kernelspec": {
   "display_name": "clusteringvenv",
   "language": "python",
   "name": "python3"
  },
  "language_info": {
   "codemirror_mode": {
    "name": "ipython",
    "version": 3
   },
   "file_extension": ".py",
   "mimetype": "text/x-python",
   "name": "python",
   "nbconvert_exporter": "python",
   "pygments_lexer": "ipython3",
   "version": "3.11.7"
  },
  "papermill": {
   "default_parameters": {},
   "duration": null,
   "end_time": null,
   "environment_variables": {},
   "exception": null,
   "input_path": "src/deploy.ipynb",
   "output_path": "reports/deploy_24_04.ipynb",
   "parameters": {},
   "start_time": "2024-04-25T11:57:40.375381",
   "version": "2.5.0"
  }
 },
 "nbformat": 4,
 "nbformat_minor": 5
}